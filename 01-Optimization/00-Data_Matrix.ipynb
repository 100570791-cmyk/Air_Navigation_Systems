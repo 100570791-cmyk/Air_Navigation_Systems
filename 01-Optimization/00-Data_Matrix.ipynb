{
 "cells": [
  {
   "cell_type": "code",
   "execution_count": 1,
   "id": "38a6585c",
   "metadata": {},
   "outputs": [
    {
     "name": "stdout",
     "output_type": "stream",
     "text": [
      "param a:=\n",
      "1 1 \n",
      "1 2 \n",
      "1 3 \n",
      "1 4 \n",
      "1 5 \n",
      "1 6 \n",
      "2 1 \n",
      "2 2 \n",
      "2 3 \n",
      "2 4 \n",
      "2 5 \n",
      "2 6 \n",
      "3 1 \n",
      "3 2 \n",
      "3 3 \n",
      "3 4 \n",
      "3 5 \n",
      "3 6 \n",
      "4 1 \n",
      "4 2 \n",
      "4 3 \n",
      "4 4 \n",
      "4 5 \n",
      "4 6 \n",
      "5 1 \n",
      "5 2 \n",
      "5 3 \n",
      "5 4 \n",
      "5 5 \n",
      "5 6 \n",
      "6 1 \n",
      "6 2 \n",
      "6 3 \n",
      "6 4 \n",
      "6 5 \n",
      "6 6 \n",
      ";\n"
     ]
    }
   ],
   "source": [
    "param_n = 6\n",
    "param_m = 6\n",
    "\n",
    "print(\"param a:=\")\n",
    "for m in range(param_m):\n",
    "    for n in range(param_n):\n",
    "        print(m+1, n+1,'')\n",
    "print(\";\")"
   ]
  }
 ],
 "metadata": {
  "kernelspec": {
   "display_name": "ANSenv",
   "language": "python",
   "name": "python3"
  },
  "language_info": {
   "codemirror_mode": {
    "name": "ipython",
    "version": 3
   },
   "file_extension": ".py",
   "mimetype": "text/x-python",
   "name": "python",
   "nbconvert_exporter": "python",
   "pygments_lexer": "ipython3",
   "version": "3.11.9"
  }
 },
 "nbformat": 4,
 "nbformat_minor": 5
}
